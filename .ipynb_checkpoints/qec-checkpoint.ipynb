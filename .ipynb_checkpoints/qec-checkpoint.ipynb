{
 "cells": [
  {
   "cell_type": "markdown",
   "id": "54ff416b-bbb4-48fd-9236-fe230775ccf4",
   "metadata": {},
   "source": [
    "## Qunatum Error Correction\n",
    "\n",
    "One of the important aspects in Quantum computation/information is send the encoded data from start to end. Up until now, no one can guarantee you the data intregity. It's a phenomenon plagued due to decoherence. The qunatum state is contingent to it's surrounding. Unless it's mitigated the quantum superiority would be a far fetched idea. At least on the state of the art Quantum computers phrased as Noisy Intermediate-Scale Quantum (NISQ).\n",
    "\n",
    "In this notebook, QEC is explored and mitigated for three qubit system. First attention would be towards the bit-flip and next would be sign-flip. A quantum error correction consists of four major steps: encoding, error detection, error recovery, and decoding. "
   ]
  },
  {
   "cell_type": "markdown",
   "id": "c2acf548-a544-45d8-af46-f35c84717d7c",
   "metadata": {},
   "source": [
    "## Three qubit bit flip"
   ]
  },
  {
   "cell_type": "markdown",
   "id": "d29d515c-3319-43ad-82fe-a66813237d96",
   "metadata": {},
   "source": [
    "## References\n",
    "\n",
    "1. Djordjevic, I. (2021). Chap. 8. Quantum Error Correction Sec. 8.2. Quantum Error Correction Concepts. In Quantum information processing, quantum computing, and quantum error correction: An engineering approach. essay, Elsevier, AP, Academic Press. \n",
    "2. Somoroff, A., Mencia, R., & Belyansky, R. Quantum Error Correction.\n",
    "3. Roffe, J. (2019). Quantum error correction: an introductory guide. Contemporary Physics, 60(3), 226-245. \n",
    "4. Steane, A., 2006. A Tutorial on Quantum Error Correction. [online] Www2.physics.ox.ac.uk. Available at: <https://www2.physics.ox.ac.uk/sites/default/files/ErrorCorrectionSteane06.pdf> "
   ]
  },
  {
   "cell_type": "code",
   "execution_count": null,
   "id": "718db75f-2777-4ba9-a7a0-437c1f8678e9",
   "metadata": {},
   "outputs": [],
   "source": []
  }
 ],
 "metadata": {
  "kernelspec": {
   "display_name": "Python 3",
   "language": "python",
   "name": "python3"
  },
  "language_info": {
   "codemirror_mode": {
    "name": "ipython",
    "version": 3
   },
   "file_extension": ".py",
   "mimetype": "text/x-python",
   "name": "python",
   "nbconvert_exporter": "python",
   "pygments_lexer": "ipython3",
   "version": "3.9.5"
  }
 },
 "nbformat": 4,
 "nbformat_minor": 5
}
